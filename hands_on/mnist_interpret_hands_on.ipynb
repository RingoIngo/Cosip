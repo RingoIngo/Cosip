{
 "cells": [
  {
   "cell_type": "code",
   "execution_count": null,
   "metadata": {
    "collapsed": false
   },
   "outputs": [],
   "source": [
    "import sys\n",
    "sys.path.append(\"interprettensor/interprettensor\")\n",
    "sys.path.append(\"interprettensor/interprettensor/modules\")\n",
    "from modules.sequential import Sequential\n",
    "from modules.linear import Linear\n",
    "from modules.softmax import Softmax\n",
    "from modules.relu import Relu\n",
    "from modules.tanh import Tanh\n",
    "from modules.avgpool import AvgPool\n",
    "from modules.convolution import Convolution\n",
    "import modules.render as render\n",
    "from modules.utils import Utils, Summaries, plot_relevances\n",
    "\n",
    "import tensorflow as tf\n",
    "import numpy as np\n",
    "\n",
    "from IPython.display import clear_output, Image, display, HTML\n",
    "from tensorflow.examples.tutorials.mnist import input_data #import input_data"
   ]
  },
  {
   "cell_type": "code",
   "execution_count": null,
   "metadata": {
    "collapsed": false
   },
   "outputs": [],
   "source": [
    "def init_vars(sess):\n",
    "    saver = tf.train.Saver()\n",
    "    tf.global_variables_initializer().run()\n",
    "    ckpt = tf.train.get_checkpoint_state(FLAGS.checkpoint_dir)\n",
    "    try: \n",
    "        if ckpt and ckpt.model_checkpoint_path:\n",
    "            print('Reloading from -- '+FLAGS.checkpoint_dir+'/model.ckpt')\n",
    "            saver.restore(sess, ckpt.model_checkpoint_path)\n",
    "        else:\n",
    "            tvars = np.load('mnist_linear_model/model.npy')\n",
    "            for ii in range(8): sess.run(tf.trainable_variables()[ii].assign(tvars[ii]))\n",
    "            print('Reloading from numpy array!')\n",
    "    except:\n",
    "        raise ValueError('Layer definition and model layers mismatch!')\n",
    "    return saver\n",
    "    "
   ]
  },
  {
   "cell_type": "code",
   "execution_count": null,
   "metadata": {
    "collapsed": true
   },
   "outputs": [],
   "source": [
    "#################################################################################\n",
    "'''\n",
    "This function creates the neural network with layer definitions\n",
    "Input: Images as tensors \n",
    "Output: 10-d tensor for each image\n",
    "'''\n",
    "#################################################################################\n",
    "def neural_network():\n",
    "    # Define the layers for your neural network \n",
    "    return Sequential([Linear(input_dim=784,output_dim=1296, act='relu', batch_size=FLAGS.batch_size),                    \n",
    "                     Linear(1296, act='relu'), \n",
    "                     Linear(1296, act='relu'),\n",
    "                     Linear(10),\n",
    "                     Softmax()])\n",
    "\n",
    "    '''Fill your code here'''\n",
    "                   \n",
    "    return op\n"
   ]
  },
  {
   "cell_type": "code",
   "execution_count": null,
   "metadata": {
    "collapsed": false
   },
   "outputs": [],
   "source": [
    "if tf.gfile.Exists(FLAGS.summaries_dir):\n",
    "    tf.gfile.DeleteRecursively(FLAGS.summaries_dir)\n",
    "tf.gfile.MakeDirs(FLAGS.summaries_dir)\n",
    "tf.reset_default_graph()\n",
    "\n",
    "#################################################################################\n",
    "'''\n",
    "Define the graph\n",
    "'''\n",
    "#################################################################################\n",
    "mnist = input_data.read_data_sets(FLAGS.data_dir, one_hot=True)\n",
    "\n",
    "with tf.Session() as sess:\n",
    "    x = tf.placeholder(tf.float32, [FLAGS.batch_size, 784], name='input')\n",
    "    with tf.variable_scope('model'):\n",
    "        my_netowrk = neural_network()\n",
    "        output = my_netowrk.forward(x)\n",
    "        \n",
    "        #################################################################################\n",
    "        '''Compute LRP'''\n",
    "        #################################################################################\n",
    "        RELEVANCE = '''Fill your code here'''\n",
    "\n",
    "    # Merge all the summaries and write them out \n",
    "    merged = tf.summary.merge_all()\n",
    "    test_writer = tf.summary.FileWriter(FLAGS.summaries_dir + '/my_model')\n",
    "\n",
    "    # Intialize variables and reload your model\n",
    "    saver = init_vars(sess)\n",
    "\n",
    "    # Extract testing data \n",
    "    xs, ys = mnist.test.next_batch(FLAGS.batch_size)\n",
    "    feed = {x:(2*xs)-1}\n",
    "    fetch = [merged, RELEVANCE]\n",
    "    #################################################################################\n",
    "    '''Run the session and fetch the relevances'''\n",
    "    #################################################################################\n",
    "    summary, relevance_test= '''Fill your code here'''\n",
    "    test_writer.add_summary(summary, 0)\n",
    "\n",
    "    # Save the images as heatmaps to visualize on tensorboard\n",
    "    images = xs.reshape([FLAGS.batch_size,28,28,1])\n",
    "    images = (images + 1)/2.0\n",
    "    plot_relevances(relevance_test.reshape([FLAGS.batch_size,28,28,1]), images, test_writer )\n",
    "\n",
    "    test_writer.close()\n",
    "    print('Completed plotting - Check Tensorboard')"
   ]
  },
  {
   "cell_type": "code",
   "execution_count": null,
   "metadata": {
    "collapsed": true
   },
   "outputs": [],
   "source": []
  }
 ],
 "metadata": {
  "anaconda-cloud": {},
  "kernelspec": {
   "display_name": "Python 2",
   "language": "python",
   "name": "python2"
  }
 },
 "nbformat": 4,
 "nbformat_minor": 0
}
